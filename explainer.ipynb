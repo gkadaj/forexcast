{
 "cells": [
  {
   "cell_type": "code",
   "execution_count": 2,
   "id": "af6019f6",
   "metadata": {},
   "outputs": [],
   "source": [
    "import yfinance as yf\n",
    "from datetime import datetime, timedelta\n",
    "import pytz"
   ]
  },
  {
   "cell_type": "code",
   "execution_count": 4,
   "id": "9f8e5179",
   "metadata": {},
   "outputs": [
    {
     "name": "stderr",
     "output_type": "stream",
     "text": [
      "C:\\Users\\akid\\AppData\\Local\\Temp\\ipykernel_16628\\3327722529.py:13: FutureWarning: YF.download() has changed argument auto_adjust default to True\n",
      "  data = yf.download(tickers=symbol, start=str(local_now), interval=\"1m\")\n",
      "[*********************100%***********************]  1 of 1 completed"
     ]
    },
    {
     "name": "stdout",
     "output_type": "stream",
     "text": [
      "150.52000427246094 150.83200073242188\n"
     ]
    },
    {
     "name": "stderr",
     "output_type": "stream",
     "text": [
      "\n",
      "C:\\Users\\akid\\AppData\\Local\\Temp\\ipykernel_16628\\3327722529.py:24: FutureWarning: Calling float on a single element Series is deprecated and will raise a TypeError in the future. Use float(ser.iloc[0]) instead\n",
      "  min_price = float(filtered_data['Low'].min())\n",
      "C:\\Users\\akid\\AppData\\Local\\Temp\\ipykernel_16628\\3327722529.py:25: FutureWarning: Calling float on a single element Series is deprecated and will raise a TypeError in the future. Use float(ser.iloc[0]) instead\n",
      "  max_price = float(filtered_data['High'].max())\n"
     ]
    }
   ],
   "source": [
    "symbol = \"JPY=X\"  # USD/JPY ticker\n",
    "start_time=\"10:00\"\n",
    "# Adjust time to UTC to match yfinance's timezone\n",
    "utc = pytz.UTC\n",
    "local_tz = pytz.timezone('Europe/Warsaw')  # Replace 'YourTimeZone' with your timezone, e.g., 'America/New_York'\n",
    "\n",
    "# Get today's date in local timezone\n",
    "local_now = datetime.now(local_tz).date()\n",
    "local_start_time = local_tz.localize(datetime.combine(local_now, datetime.strptime(start_time, \"%H:%M\").time()))\n",
    "utc_start_time = local_start_time.astimezone(utc)\n",
    "\n",
    "# Fetch today's USD/JPY data with minute intervals\n",
    "data = yf.download(tickers=symbol, start=str(local_now), interval=\"1m\")\n",
    "\n",
    "min_price = 0\n",
    "max_price = 0\n",
    "# Check if data exists\n",
    "if not data.empty:\n",
    "    # Filter with respect to UTC timings (Datetime index is already in UTC)\n",
    "    filtered_data = data[data.index >= utc_start_time]\n",
    "\n",
    "    if not filtered_data.empty:\n",
    "        # Extract the minimum and maximum prices\n",
    "        min_price = float(filtered_data['Low'].min())\n",
    "        max_price = float(filtered_data['High'].max())\n",
    "\n",
    "print(min_price, max_price)"
   ]
  }
 ],
 "metadata": {
  "kernelspec": {
   "display_name": "forexcast",
   "language": "python",
   "name": "python3"
  },
  "language_info": {
   "codemirror_mode": {
    "name": "ipython",
    "version": 3
   },
   "file_extension": ".py",
   "mimetype": "text/x-python",
   "name": "python",
   "nbconvert_exporter": "python",
   "pygments_lexer": "ipython3",
   "version": "3.11.13"
  }
 },
 "nbformat": 4,
 "nbformat_minor": 5
}
